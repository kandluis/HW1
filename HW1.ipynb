{
 "cells": [
  {
   "cell_type": "markdown",
   "metadata": {},
   "source": [
    "# CS 182: Artificial Intelligence\n",
    "# Assignment 1: Search Algorithms\n",
    "* Fall 2015\n",
    "* Due: **updated** September 21, 11:59pm\n",
    "\n",
    "In this assignment, you will implement search algorithms to help Pacman find paths in a maze. \n",
    "Note: We will use the Pacman framework developed at Berkeley. This framework is used worldwide to teach AI, therefore it is very important that you DO NOT publish your solutions online.\n",
    "\n",
    "\n",
    "\n"
   ]
  },
  {
   "cell_type": "markdown",
   "metadata": {},
   "source": [
    "![Pacman](https://upload.wikimedia.org/wikipedia/en/5/59/Pac-man.png)\n"
   ]
  },
  {
   "cell_type": "markdown",
   "metadata": {},
   "source": [
    "\n",
    "## Computational Assignment\n",
    "\n",
    "### Question 1\n",
    "\n",
    "Follow the instructions at:\n",
    "\n",
    "http://ai.berkeley.edu/search.html\n",
    "\n",
    "The page includes questions requiring implementation of some of the search algorithms we studied in class. [The grading scheme described on the Berkley webpage will not be used, but can be used for your own testing for evaluating your performance.]\n",
    "\n",
    "To get the assignment we recommend just cloning this repo:\n",
    "\n",
    "> git clone https://github.com/CS182/HW1.git\n",
    "\n",
    " Solutions should be submitted to the course dropbox folder. Submit only the files `search.py` and `searchAgents.py`. If you work in a pair, only one student should submit the files, but make sure to include the names of both students at the top of each of the files.\n"
   ]
  },
  {
   "cell_type": "markdown",
   "metadata": {},
   "source": [
    "### Important Note:\n",
    "\n",
    "There is an optimization to graph search that we did not cover in class that will be necessary to obtain top marks on the homework. (Particularly note for BFS and Q6-Q7). These will result in slight modifications to the general pseudo-code from class.\n",
    "\n",
    "* For BFS and DFS you should not push paths that are already on the frontier. This is valid because for these algorithms, paths of the same depth and last state are equivalent. \n",
    "\n",
    "* You can however _not_ do this for UCS or A\\* since these algorithms are aware of the path cost, and so it is possible that, from the algorithms perspective, the new path is superior to a path with the same last state that was previously added to the frontier. However, for these algorithms, you should _not_ push paths if there is a lower cost path with the same last state in the frontier. \n",
    "\n",
    "In practice, you can implement this for all the algorithms in the homwork by keeping track of the best path cost to each state in the explored list (now a dictionary). You should update this list when pushing a path (as opposed to when popping). For BFS and DFS you can simply check that a new path does not end in an explored state. For the others, you should check that the new path is better than the current best path cost, and otherwise prune. AIMA gives a different algorithm here that is harder to implement but will also work. \n",
    "\n",
    "One further note, in AIMA they also note that for BFS you can accept a solution path on pushing as opposed to on exploring (popping). Implementing this will give you a small speed up on this problem, but potentially a larger speed-up on problems with a large branching factor. In our implementation, BFS requires 1966 expansions after the first change, 1921 after the second."
   ]
  },
  {
   "cell_type": "markdown",
   "metadata": {},
   "source": [
    "## Written Assignment \n",
    "\n",
    "Answer the following questions individually, and submit as pdf to the dropbox folder. \n",
    "\n",
    "### Question 1\n",
    "\n",
    "The Pac-Man board will show an overlay of the states explored and the order in which they were explored. (Brighter red means earlier exploration.) Is the exploration order the one you would have expected? Does Pac-Man actually go to all the explored squares on his way to the goal? (Question 1 on the Berkeley search project page.)\n",
    "\n",
    "\n",
    "### Question 2\n",
    "\n",
    " With regards to question 4 in the implementation of A\\* as specified by question 4 on the Berkeley search project page: Run the A\\* agent on openMaze. How do A\\* and UCS perform with this configuration?\n",
    "\n",
    "\n",
    "### Question 3\n",
    "\n",
    "Describe a real world problem for which you would want to find an optimal solution. Briefly explain why (3-4 sentences). \n",
    "\n",
    "\n",
    "### Question 4\n",
    "\n",
    "Describe a real-world problem for which you would prefer finding a solution quickly, even if it is suboptimal. Briefly explain why (3-4 sentences). \n"
   ]
  }
 ],
 "metadata": {
  "kernelspec": {
   "display_name": "Python 2",
   "language": "python",
   "name": "python2"
  },
  "language_info": {
   "codemirror_mode": {
    "name": "ipython",
    "version": 2
   },
   "file_extension": ".py",
   "mimetype": "text/x-python",
   "name": "python",
   "nbconvert_exporter": "python",
   "pygments_lexer": "ipython2",
   "version": "2.7.9"
  }
 },
 "nbformat": 4,
 "nbformat_minor": 0
}
